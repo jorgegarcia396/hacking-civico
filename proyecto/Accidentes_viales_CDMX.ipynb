{
  "nbformat": 4,
  "nbformat_minor": 0,
  "metadata": {
    "colab": {
      "name": "Accidentes viales CDMX.ipynb",
      "provenance": [],
      "collapsed_sections": [],
      "authorship_tag": "ABX9TyPgJhMe11aSBPk05xPseX7s",
      "include_colab_link": true
    },
    "kernelspec": {
      "name": "python3",
      "display_name": "Python 3"
    }
  },
  "cells": [
    {
      "cell_type": "markdown",
      "metadata": {
        "id": "view-in-github",
        "colab_type": "text"
      },
      "source": [
        "<a href=\"https://colab.research.google.com/github/jorgegarcia396/hacking-civico/blob/master/Accidentes_viales_CDMX.ipynb\" target=\"_parent\"><img src=\"https://colab.research.google.com/assets/colab-badge.svg\" alt=\"Open In Colab\"/></a>"
      ]
    },
    {
      "cell_type": "code",
      "metadata": {
        "id": "2sIAsac9CbMi"
      },
      "source": [
        "import pandas as pd\n",
        "import numpy as np\n",
        "import statistics"
      ],
      "execution_count": 1,
      "outputs": []
    },
    {
      "cell_type": "code",
      "metadata": {
        "id": "erWS5hRFCheI",
        "outputId": "bed3afca-4f5c-4102-b3cd-a4c9ad9b14bf",
        "colab": {
          "base_uri": "https://localhost:8080/",
          "height": 34
        }
      },
      "source": [
        "from google.colab import drive\n",
        "drive.mount('/content/drive', force_remount = True)"
      ],
      "execution_count": 2,
      "outputs": [
        {
          "output_type": "stream",
          "text": [
            "Mounted at /content/drive\n"
          ],
          "name": "stdout"
        }
      ]
    },
    {
      "cell_type": "code",
      "metadata": {
        "id": "vmSzGP8nEBth"
      },
      "source": [
        "av = '/content/drive/My Drive/incidentes-viales-c5.csv'"
      ],
      "execution_count": 3,
      "outputs": []
    },
    {
      "cell_type": "code",
      "metadata": {
        "id": "Kzc1F1z7ERwr"
      },
      "source": [
        "data_av = pd.read_csv(av, encoding='latin-1')"
      ],
      "execution_count": 4,
      "outputs": []
    },
    {
      "cell_type": "code",
      "metadata": {
        "id": "B02f8o1TO90o"
      },
      "source": [
        "data_av.columns = data_av.columns.str.replace(' ', '_')"
      ],
      "execution_count": 5,
      "outputs": []
    },
    {
      "cell_type": "code",
      "metadata": {
        "id": "qSokznKvPJFF",
        "outputId": "cd2a6280-cd60-425f-8a25-79e01aef78b2",
        "colab": {
          "base_uri": "https://localhost:8080/",
          "height": 479
        }
      },
      "source": [
        "data_av.head()"
      ],
      "execution_count": 6,
      "outputs": [
        {
          "output_type": "execute_result",
          "data": {
            "text/html": [
              "<div>\n",
              "<style scoped>\n",
              "    .dataframe tbody tr th:only-of-type {\n",
              "        vertical-align: middle;\n",
              "    }\n",
              "\n",
              "    .dataframe tbody tr th {\n",
              "        vertical-align: top;\n",
              "    }\n",
              "\n",
              "    .dataframe thead th {\n",
              "        text-align: right;\n",
              "    }\n",
              "</style>\n",
              "<table border=\"1\" class=\"dataframe\">\n",
              "  <thead>\n",
              "    <tr style=\"text-align: right;\">\n",
              "      <th></th>\n",
              "      <th>folio</th>\n",
              "      <th>fecha_creacion</th>\n",
              "      <th>hora_creacion</th>\n",
              "      <th>dia_semana</th>\n",
              "      <th>codigo_cierre</th>\n",
              "      <th>fecha_cierre</th>\n",
              "      <th>aÃ±o_cierre</th>\n",
              "      <th>mes_cierre</th>\n",
              "      <th>hora_cierre</th>\n",
              "      <th>delegacion_inicio</th>\n",
              "      <th>incidente_c4</th>\n",
              "      <th>latitud</th>\n",
              "      <th>longitud</th>\n",
              "      <th>clas_con_f_alarma</th>\n",
              "      <th>tipo_entrada</th>\n",
              "      <th>delegacion_cierre</th>\n",
              "      <th>geopoint</th>\n",
              "      <th>mes</th>\n",
              "    </tr>\n",
              "  </thead>\n",
              "  <tbody>\n",
              "    <tr>\n",
              "      <th>0</th>\n",
              "      <td>IZ/200101/04110</td>\n",
              "      <td>01/01/2020</td>\n",
              "      <td>08:49:57</td>\n",
              "      <td>MiÃ©rcoles</td>\n",
              "      <td>(A) La unidad de atenciÃ³n a emergencias fue d...</td>\n",
              "      <td>01/01/2020</td>\n",
              "      <td>2020</td>\n",
              "      <td>Enero</td>\n",
              "      <td>10:26:26</td>\n",
              "      <td>TLAHUAC</td>\n",
              "      <td>accidente-motociclista</td>\n",
              "      <td>19.30303</td>\n",
              "      <td>-99.05604</td>\n",
              "      <td>URGENCIAS MEDICAS</td>\n",
              "      <td>RADIO</td>\n",
              "      <td>TLAHUAC</td>\n",
              "      <td>19.30302999,-99.05604012</td>\n",
              "      <td>1</td>\n",
              "    </tr>\n",
              "    <tr>\n",
              "      <th>1</th>\n",
              "      <td>C5/200101/00743</td>\n",
              "      <td>01/01/2020</td>\n",
              "      <td>01:04:38</td>\n",
              "      <td>MiÃ©rcoles</td>\n",
              "      <td>(A) La unidad de atenciÃ³n a emergencias fue d...</td>\n",
              "      <td>01/01/2020</td>\n",
              "      <td>2020</td>\n",
              "      <td>Enero</td>\n",
              "      <td>01:18:36</td>\n",
              "      <td>AZCAPOTZALCO</td>\n",
              "      <td>accidente-choque sin lesionados</td>\n",
              "      <td>19.49422</td>\n",
              "      <td>-99.19734</td>\n",
              "      <td>EMERGENCIA</td>\n",
              "      <td>LLAMADA DEL 911</td>\n",
              "      <td>AZCAPOTZALCO</td>\n",
              "      <td>19.49421996,-99.19734012</td>\n",
              "      <td>1</td>\n",
              "    </tr>\n",
              "    <tr>\n",
              "      <th>2</th>\n",
              "      <td>C5/200101/00012</td>\n",
              "      <td>31/12/2019</td>\n",
              "      <td>23:59:58</td>\n",
              "      <td>Martes</td>\n",
              "      <td>(A) La unidad de atenciÃ³n a emergencias fue d...</td>\n",
              "      <td>01/01/2020</td>\n",
              "      <td>2020</td>\n",
              "      <td>Enero</td>\n",
              "      <td>06:59:44</td>\n",
              "      <td>IZTAPALAPA</td>\n",
              "      <td>accidente-choque sin lesionados</td>\n",
              "      <td>19.32178</td>\n",
              "      <td>-99.05313</td>\n",
              "      <td>EMERGENCIA</td>\n",
              "      <td>LLAMADA DEL 911</td>\n",
              "      <td>IZTAPALAPA</td>\n",
              "      <td>19.32177996,-99.05312988</td>\n",
              "      <td>1</td>\n",
              "    </tr>\n",
              "    <tr>\n",
              "      <th>3</th>\n",
              "      <td>GA/191231/08094</td>\n",
              "      <td>31/12/2019</td>\n",
              "      <td>23:46:07</td>\n",
              "      <td>Martes</td>\n",
              "      <td>(A) La unidad de atenciÃ³n a emergencias fue d...</td>\n",
              "      <td>01/01/2020</td>\n",
              "      <td>2020</td>\n",
              "      <td>Enero</td>\n",
              "      <td>00:22:00</td>\n",
              "      <td>VENUSTIANO CARRANZA</td>\n",
              "      <td>accidente-motociclista</td>\n",
              "      <td>19.45154</td>\n",
              "      <td>-99.09475</td>\n",
              "      <td>URGENCIAS MEDICAS</td>\n",
              "      <td>RADIO</td>\n",
              "      <td>VENUSTIANO CARRANZA</td>\n",
              "      <td>19.45153998,-99.09474984</td>\n",
              "      <td>1</td>\n",
              "    </tr>\n",
              "    <tr>\n",
              "      <th>4</th>\n",
              "      <td>C5/200101/03024</td>\n",
              "      <td>01/01/2020</td>\n",
              "      <td>05:26:06</td>\n",
              "      <td>MiÃ©rcoles</td>\n",
              "      <td>(N) La unidad de atenciÃ³n a emergencias fue d...</td>\n",
              "      <td>01/01/2020</td>\n",
              "      <td>2020</td>\n",
              "      <td>Enero</td>\n",
              "      <td>06:55:23</td>\n",
              "      <td>MAGDALENA CONTRERAS</td>\n",
              "      <td>accidente-choque sin lesionados</td>\n",
              "      <td>19.32809</td>\n",
              "      <td>-99.21489</td>\n",
              "      <td>EMERGENCIA</td>\n",
              "      <td>LLAMADA DEL 911</td>\n",
              "      <td>MAGDALENA CONTRERAS</td>\n",
              "      <td>19.32809004,-99.21489012</td>\n",
              "      <td>1</td>\n",
              "    </tr>\n",
              "  </tbody>\n",
              "</table>\n",
              "</div>"
            ],
            "text/plain": [
              "             folio fecha_creacion  ...                  geopoint mes\n",
              "0  IZ/200101/04110     01/01/2020  ...  19.30302999,-99.05604012   1\n",
              "1  C5/200101/00743     01/01/2020  ...  19.49421996,-99.19734012   1\n",
              "2  C5/200101/00012     31/12/2019  ...  19.32177996,-99.05312988   1\n",
              "3  GA/191231/08094     31/12/2019  ...  19.45153998,-99.09474984   1\n",
              "4  C5/200101/03024     01/01/2020  ...  19.32809004,-99.21489012   1\n",
              "\n",
              "[5 rows x 18 columns]"
            ]
          },
          "metadata": {
            "tags": []
          },
          "execution_count": 6
        }
      ]
    },
    {
      "cell_type": "code",
      "metadata": {
        "id": "rYn_rDF4T8Lj",
        "outputId": "7a3c735d-a6cd-47c0-d164-c93422d251f5",
        "colab": {
          "base_uri": "https://localhost:8080/",
          "height": 204
        }
      },
      "source": [
        "accidentes_viales = data_av.drop(['folio','dia_semana', 'codigo_cierre', 'fecha_cierre', 'aÃ±o_cierre', 'mes_cierre', 'hora_cierre', 'latitud', 'longitud', 'clas_con_f_alarma', 'tipo_entrada', 'delegacion_cierre', 'mes'], axis=1)\n",
        "accidentes_viales.head()"
      ],
      "execution_count": 7,
      "outputs": [
        {
          "output_type": "execute_result",
          "data": {
            "text/html": [
              "<div>\n",
              "<style scoped>\n",
              "    .dataframe tbody tr th:only-of-type {\n",
              "        vertical-align: middle;\n",
              "    }\n",
              "\n",
              "    .dataframe tbody tr th {\n",
              "        vertical-align: top;\n",
              "    }\n",
              "\n",
              "    .dataframe thead th {\n",
              "        text-align: right;\n",
              "    }\n",
              "</style>\n",
              "<table border=\"1\" class=\"dataframe\">\n",
              "  <thead>\n",
              "    <tr style=\"text-align: right;\">\n",
              "      <th></th>\n",
              "      <th>fecha_creacion</th>\n",
              "      <th>hora_creacion</th>\n",
              "      <th>delegacion_inicio</th>\n",
              "      <th>incidente_c4</th>\n",
              "      <th>geopoint</th>\n",
              "    </tr>\n",
              "  </thead>\n",
              "  <tbody>\n",
              "    <tr>\n",
              "      <th>0</th>\n",
              "      <td>01/01/2020</td>\n",
              "      <td>08:49:57</td>\n",
              "      <td>TLAHUAC</td>\n",
              "      <td>accidente-motociclista</td>\n",
              "      <td>19.30302999,-99.05604012</td>\n",
              "    </tr>\n",
              "    <tr>\n",
              "      <th>1</th>\n",
              "      <td>01/01/2020</td>\n",
              "      <td>01:04:38</td>\n",
              "      <td>AZCAPOTZALCO</td>\n",
              "      <td>accidente-choque sin lesionados</td>\n",
              "      <td>19.49421996,-99.19734012</td>\n",
              "    </tr>\n",
              "    <tr>\n",
              "      <th>2</th>\n",
              "      <td>31/12/2019</td>\n",
              "      <td>23:59:58</td>\n",
              "      <td>IZTAPALAPA</td>\n",
              "      <td>accidente-choque sin lesionados</td>\n",
              "      <td>19.32177996,-99.05312988</td>\n",
              "    </tr>\n",
              "    <tr>\n",
              "      <th>3</th>\n",
              "      <td>31/12/2019</td>\n",
              "      <td>23:46:07</td>\n",
              "      <td>VENUSTIANO CARRANZA</td>\n",
              "      <td>accidente-motociclista</td>\n",
              "      <td>19.45153998,-99.09474984</td>\n",
              "    </tr>\n",
              "    <tr>\n",
              "      <th>4</th>\n",
              "      <td>01/01/2020</td>\n",
              "      <td>05:26:06</td>\n",
              "      <td>MAGDALENA CONTRERAS</td>\n",
              "      <td>accidente-choque sin lesionados</td>\n",
              "      <td>19.32809004,-99.21489012</td>\n",
              "    </tr>\n",
              "  </tbody>\n",
              "</table>\n",
              "</div>"
            ],
            "text/plain": [
              "  fecha_creacion  ...                  geopoint\n",
              "0     01/01/2020  ...  19.30302999,-99.05604012\n",
              "1     01/01/2020  ...  19.49421996,-99.19734012\n",
              "2     31/12/2019  ...  19.32177996,-99.05312988\n",
              "3     31/12/2019  ...  19.45153998,-99.09474984\n",
              "4     01/01/2020  ...  19.32809004,-99.21489012\n",
              "\n",
              "[5 rows x 5 columns]"
            ]
          },
          "metadata": {
            "tags": []
          },
          "execution_count": 7
        }
      ]
    },
    {
      "cell_type": "code",
      "metadata": {
        "id": "XjR9343hPidw"
      },
      "source": [
        "def cast_datetime_cols(df):\n",
        "    timestamp_cols = [col for col in df.columns if \"fecha_creacion\" in col]\n",
        "    df[timestamp_cols] = df[timestamp_cols].apply(lambda date_col: pd.to_datetime(date_col, errors=\"coerce\"), axis=0)\n",
        "    return df\n",
        "\n",
        "accidentes_viales = cast_datetime_cols(accidentes_viales)"
      ],
      "execution_count": 8,
      "outputs": []
    },
    {
      "cell_type": "code",
      "metadata": {
        "id": "B3Cc3_K5Q6Ra"
      },
      "source": [
        "accidentes_viales['mes'] = accidentes_viales.fecha_creacion.dt.month\n",
        "accidentes_viales['año'] = accidentes_viales.fecha_creacion.dt.year"
      ],
      "execution_count": 9,
      "outputs": []
    },
    {
      "cell_type": "code",
      "metadata": {
        "id": "Ii4s6JMPSnUG"
      },
      "source": [
        "numerical = accidentes_viales.select_dtypes(include='number')\n",
        "categorical = accidentes_viales.select_dtypes(include=['object', 'bool', 'category', 'datetime64[ns]'])"
      ],
      "execution_count": 10,
      "outputs": []
    },
    {
      "cell_type": "markdown",
      "metadata": {
        "id": "nd7jzbvLu_W5"
      },
      "source": [
        "# **Exploración de datos**"
      ]
    },
    {
      "cell_type": "markdown",
      "metadata": {
        "id": "c3YRrtcqvcA8"
      },
      "source": [
        "¿Cuáles son las alcaldías con mayor número de accidentes?"
      ]
    },
    {
      "cell_type": "code",
      "metadata": {
        "id": "GAi2c5krvIoW",
        "outputId": "4d3effa0-a011-4e27-f4bd-87b42d5ca0d4",
        "colab": {
          "base_uri": "https://localhost:8080/",
          "height": 306
        }
      },
      "source": [
        "accidentes_viales.delegacion_inicio.value_counts()"
      ],
      "execution_count": 11,
      "outputs": [
        {
          "output_type": "execute_result",
          "data": {
            "text/plain": [
              "IZTAPALAPA             18724\n",
              "GUSTAVO A. MADERO      10858\n",
              "CUAUHTEMOC             10341\n",
              "TLALPAN                 8130\n",
              "COYOACAN                7438\n",
              "VENUSTIANO CARRANZA     7422\n",
              "BENITO JUAREZ           7415\n",
              "ALVARO OBREGON          7132\n",
              "MIGUEL HIDALGO          7108\n",
              "XOCHIMILCO              4804\n",
              "AZCAPOTZALCO            4627\n",
              "IZTACALCO               4412\n",
              "TLAHUAC                 2965\n",
              "CUAJIMALPA              1874\n",
              "MAGDALENA CONTRERAS     1759\n",
              "MILPA ALTA               591\n",
              "Name: delegacion_inicio, dtype: int64"
            ]
          },
          "metadata": {
            "tags": []
          },
          "execution_count": 11
        }
      ]
    },
    {
      "cell_type": "markdown",
      "metadata": {
        "id": "aqJna7snvkVo"
      },
      "source": [
        "¿Cuáles son los tipos de accidentes con mayor número de registros?"
      ]
    },
    {
      "cell_type": "code",
      "metadata": {
        "id": "LLly1-J0vQ46",
        "outputId": "17e4183c-f998-4004-f233-4aa3619b7cbe",
        "colab": {
          "base_uri": "https://localhost:8080/",
          "height": 357
        }
      },
      "source": [
        "accidentes_viales.incidente_c4.value_counts()"
      ],
      "execution_count": 12,
      "outputs": [
        {
          "output_type": "execute_result",
          "data": {
            "text/plain": [
              "accidente-choque sin lesionados                    49071\n",
              "accidente-choque con lesionados                    28666\n",
              "lesionado-atropellado                              11953\n",
              "accidente-motociclista                              9969\n",
              "accidente-volcadura                                 2769\n",
              "accidente-ciclista                                  1417\n",
              "accidente-persona atrapada / desbarrancada           500\n",
              "accidente-vehÃ­culo atrapado-varado                  450\n",
              "accidente-choque con prensados                       246\n",
              "cadÃ¡ver-accidente automovilÃ­stico                  113\n",
              "cadÃ¡ver-atropellado                                 109\n",
              "sismo-choque con lesionados                          101\n",
              "detenciÃ³n ciudadana-atropellado                      80\n",
              "accidente-vehiculo desbarrancado                      63\n",
              "accidente-otros                                       53\n",
              "detenciÃ³n ciudadana-accidente automovilÃ­stico       27\n",
              "accidente-ferroviario                                 10\n",
              "sismo-persona atropellada                              7\n",
              "accidente-monopatÃ­n                                   6\n",
              "Name: incidente_c4, dtype: int64"
            ]
          },
          "metadata": {
            "tags": []
          },
          "execution_count": 12
        }
      ]
    },
    {
      "cell_type": "code",
      "metadata": {
        "id": "H7mbNLjQ-ikU",
        "outputId": "a2cb5f85-07c5-4056-994f-97af7694d76b",
        "colab": {
          "base_uri": "https://localhost:8080/",
          "height": 221
        }
      },
      "source": [
        "accidentes_viales.hora_creacion.value_counts()"
      ],
      "execution_count": 13,
      "outputs": [
        {
          "output_type": "execute_result",
          "data": {
            "text/plain": [
              "17:09:00    11\n",
              "19:54:00    11\n",
              "17:50:09    10\n",
              "16:26:00    10\n",
              "11:35:00    10\n",
              "            ..\n",
              "21:08:14     1\n",
              "05:45:30     1\n",
              "10:03:25     1\n",
              "16:13:50     1\n",
              "20:39:50     1\n",
              "Name: hora_creacion, Length: 56712, dtype: int64"
            ]
          },
          "metadata": {
            "tags": []
          },
          "execution_count": 13
        }
      ]
    },
    {
      "cell_type": "markdown",
      "metadata": {
        "id": "V5pbE4fwwExp"
      },
      "source": [
        "Accidentes automovilísticos por mes..."
      ]
    },
    {
      "cell_type": "code",
      "metadata": {
        "id": "ABvQIUT_v_tE",
        "outputId": "4edcab98-af70-4cca-e374-5c7ab0fdd8ea",
        "colab": {
          "base_uri": "https://localhost:8080/",
          "height": 450
        }
      },
      "source": [
        "accidentes_viales.groupby(['mes', 'delegacion_inicio']).count()"
      ],
      "execution_count": 14,
      "outputs": [
        {
          "output_type": "execute_result",
          "data": {
            "text/html": [
              "<div>\n",
              "<style scoped>\n",
              "    .dataframe tbody tr th:only-of-type {\n",
              "        vertical-align: middle;\n",
              "    }\n",
              "\n",
              "    .dataframe tbody tr th {\n",
              "        vertical-align: top;\n",
              "    }\n",
              "\n",
              "    .dataframe thead th {\n",
              "        text-align: right;\n",
              "    }\n",
              "</style>\n",
              "<table border=\"1\" class=\"dataframe\">\n",
              "  <thead>\n",
              "    <tr style=\"text-align: right;\">\n",
              "      <th></th>\n",
              "      <th></th>\n",
              "      <th>fecha_creacion</th>\n",
              "      <th>hora_creacion</th>\n",
              "      <th>incidente_c4</th>\n",
              "      <th>geopoint</th>\n",
              "      <th>año</th>\n",
              "    </tr>\n",
              "    <tr>\n",
              "      <th>mes</th>\n",
              "      <th>delegacion_inicio</th>\n",
              "      <th></th>\n",
              "      <th></th>\n",
              "      <th></th>\n",
              "      <th></th>\n",
              "      <th></th>\n",
              "    </tr>\n",
              "  </thead>\n",
              "  <tbody>\n",
              "    <tr>\n",
              "      <th rowspan=\"5\" valign=\"top\">1</th>\n",
              "      <th>ALVARO OBREGON</th>\n",
              "      <td>1094</td>\n",
              "      <td>1094</td>\n",
              "      <td>1094</td>\n",
              "      <td>1094</td>\n",
              "      <td>1094</td>\n",
              "    </tr>\n",
              "    <tr>\n",
              "      <th>AZCAPOTZALCO</th>\n",
              "      <td>698</td>\n",
              "      <td>698</td>\n",
              "      <td>698</td>\n",
              "      <td>698</td>\n",
              "      <td>698</td>\n",
              "    </tr>\n",
              "    <tr>\n",
              "      <th>BENITO JUAREZ</th>\n",
              "      <td>984</td>\n",
              "      <td>984</td>\n",
              "      <td>984</td>\n",
              "      <td>984</td>\n",
              "      <td>984</td>\n",
              "    </tr>\n",
              "    <tr>\n",
              "      <th>COYOACAN</th>\n",
              "      <td>1128</td>\n",
              "      <td>1128</td>\n",
              "      <td>1128</td>\n",
              "      <td>1128</td>\n",
              "      <td>1128</td>\n",
              "    </tr>\n",
              "    <tr>\n",
              "      <th>CUAJIMALPA</th>\n",
              "      <td>230</td>\n",
              "      <td>230</td>\n",
              "      <td>230</td>\n",
              "      <td>230</td>\n",
              "      <td>230</td>\n",
              "    </tr>\n",
              "    <tr>\n",
              "      <th>...</th>\n",
              "      <th>...</th>\n",
              "      <td>...</td>\n",
              "      <td>...</td>\n",
              "      <td>...</td>\n",
              "      <td>...</td>\n",
              "      <td>...</td>\n",
              "    </tr>\n",
              "    <tr>\n",
              "      <th rowspan=\"5\" valign=\"top\">12</th>\n",
              "      <th>MILPA ALTA</th>\n",
              "      <td>27</td>\n",
              "      <td>27</td>\n",
              "      <td>27</td>\n",
              "      <td>27</td>\n",
              "      <td>27</td>\n",
              "    </tr>\n",
              "    <tr>\n",
              "      <th>TLAHUAC</th>\n",
              "      <td>113</td>\n",
              "      <td>113</td>\n",
              "      <td>113</td>\n",
              "      <td>113</td>\n",
              "      <td>113</td>\n",
              "    </tr>\n",
              "    <tr>\n",
              "      <th>TLALPAN</th>\n",
              "      <td>276</td>\n",
              "      <td>276</td>\n",
              "      <td>276</td>\n",
              "      <td>276</td>\n",
              "      <td>276</td>\n",
              "    </tr>\n",
              "    <tr>\n",
              "      <th>VENUSTIANO CARRANZA</th>\n",
              "      <td>244</td>\n",
              "      <td>244</td>\n",
              "      <td>244</td>\n",
              "      <td>244</td>\n",
              "      <td>244</td>\n",
              "    </tr>\n",
              "    <tr>\n",
              "      <th>XOCHIMILCO</th>\n",
              "      <td>198</td>\n",
              "      <td>198</td>\n",
              "      <td>198</td>\n",
              "      <td>198</td>\n",
              "      <td>198</td>\n",
              "    </tr>\n",
              "  </tbody>\n",
              "</table>\n",
              "<p>192 rows × 5 columns</p>\n",
              "</div>"
            ],
            "text/plain": [
              "                         fecha_creacion  hora_creacion  ...  geopoint   año\n",
              "mes delegacion_inicio                                   ...                \n",
              "1   ALVARO OBREGON                 1094           1094  ...      1094  1094\n",
              "    AZCAPOTZALCO                    698            698  ...       698   698\n",
              "    BENITO JUAREZ                   984            984  ...       984   984\n",
              "    COYOACAN                       1128           1128  ...      1128  1128\n",
              "    CUAJIMALPA                      230            230  ...       230   230\n",
              "...                                 ...            ...  ...       ...   ...\n",
              "12  MILPA ALTA                       27             27  ...        27    27\n",
              "    TLAHUAC                         113            113  ...       113   113\n",
              "    TLALPAN                         276            276  ...       276   276\n",
              "    VENUSTIANO CARRANZA             244            244  ...       244   244\n",
              "    XOCHIMILCO                      198            198  ...       198   198\n",
              "\n",
              "[192 rows x 5 columns]"
            ]
          },
          "metadata": {
            "tags": []
          },
          "execution_count": 14
        }
      ]
    },
    {
      "cell_type": "code",
      "metadata": {
        "id": "jC5kfrRRwKN-"
      },
      "source": [
        "import altair as alt\n",
        "import seaborn as sns\n",
        "from datetime import datetime"
      ],
      "execution_count": 15,
      "outputs": []
    },
    {
      "cell_type": "code",
      "metadata": {
        "id": "l8UpnFcx-yfQ"
      },
      "source": [
        "accidentes_viales['fecha'] = accidentes_viales['fecha_creacion'].astype(str)\n",
        "accidentes_viales['hora'] = accidentes_viales['hora_creacion'].astype(str)\n"
      ],
      "execution_count": 16,
      "outputs": []
    },
    {
      "cell_type": "code",
      "metadata": {
        "id": "FYy2SVtey-v6",
        "outputId": "24aebead-b3a4-4fc7-8015-14b05d3f3ba2",
        "colab": {
          "base_uri": "https://localhost:8080/",
          "height": 34
        }
      },
      "source": [
        "alt.data_transformers.disable_max_rows()"
      ],
      "execution_count": 17,
      "outputs": [
        {
          "output_type": "execute_result",
          "data": {
            "text/plain": [
              "DataTransformerRegistry.enable('default')"
            ]
          },
          "metadata": {
            "tags": []
          },
          "execution_count": 17
        }
      ]
    },
    {
      "cell_type": "code",
      "metadata": {
        "id": "sP0bEXAuyFtH"
      },
      "source": [
        "alt.Chart(accidentes_viales).mark_bar().encode(\n",
        "    x = alt.X(\"delegacion_inicio:N\"),\n",
        "    y = \"count()\"\n",
        ")"
      ],
      "execution_count": null,
      "outputs": []
    },
    {
      "cell_type": "code",
      "metadata": {
        "id": "erXzg1fqyjkL"
      },
      "source": [
        "alt.Chart(accidentes_viales).mark_circle().encode(\n",
        "    x = alt.X('incidente_c4'),\n",
        "    y = 'count()',\n",
        "    color = alt.Color('delegacion_inicio', title = 'Delegación'),\n",
        ").properties(\n",
        "    title = \"Accidentes por alcaldía\"\n",
        ")"
      ],
      "execution_count": null,
      "outputs": []
    },
    {
      "cell_type": "markdown",
      "metadata": {
        "id": "x5BTw1Po30My"
      },
      "source": [
        "## Conclusiones"
      ]
    },
    {
      "cell_type": "markdown",
      "metadata": {
        "id": "btg_SYAy36tN"
      },
      "source": [
        "Como se puede observar en las gráficas anteriores, la alcaldía de Iztapalapa en la Ciudad de México registra el mayor número de incidentes viales, clasificados bajos las siguientes cuatro tipologías mostradas por número de registros:\n",
        "\n",
        "*   \"Choque sin lesionados\"\n",
        "*   \"Choque con lesionados\"\n",
        "*   \"Lesionado atroppelado\"\n",
        "*   \"Accidente motociclista\"\n",
        "\n",
        "Pese a que este hecho llama la atención, es importante destacar que los incidentes con mayor número de registros no generan lesionados y esto puede deberse a que en dicha alcaldía el número de vías de acceso controlado (vías principales) no es tan elevado como sí lo es en alcaldías como: Miguel Hidalgo, Cuauhtémoc, Benito Juárez y Coyoacán.\n",
        "\n",
        "Es importante mencionar que, precismanete en el caso de vías de acceso controlado, la Secretaría de Movilidad de la Ciudad de México estableció que los vehículos o cualquier otro transporte puede circular a una velocidad de 80km/h y en el caso de ejes viales y avenidas principales, la velocidad permitida es de 50km/h.\n",
        "\n",
        "También se puede notar que los accidentes con mayor incidencia, ocurren a en su mayoría a las 19:54 horas, por lo que quizá una solución que podría implementar el gobierno de la Ciudad de México sería instalar puestos de control de velocidad en las zonas más conflictivas para que de esta forma se pudieran controlar o disminuir el número de incidentes viales.\n",
        "\n",
        "\n",
        "La información utilizada en este proyecto puede ser consultada en el siguiente link:\n",
        "https://datos.cdmx.gob.mx/explore/dataset/incidentes-viales-c5/table/?disjunctive.incidente_c4&location=10,19.33685,-99.15797"
      ]
    }
  ]
}
